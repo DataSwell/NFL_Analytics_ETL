{
 "cells": [
  {
   "cell_type": "code",
   "execution_count": 1,
   "metadata": {},
   "outputs": [],
   "source": [
    "import psycopg2\n",
    "import pandas as pd\n",
    "import os\n",
    "import csv"
   ]
  },
  {
   "cell_type": "code",
   "execution_count": null,
   "metadata": {},
   "outputs": [],
   "source": [
    "# getting the password for the database from an environment variable\n",
    "db_pw = os.environ.get('DB_PASS')"
   ]
  },
  {
   "cell_type": "code",
   "execution_count": null,
   "metadata": {},
   "outputs": [],
   "source": [
    "# Connecting to the Postgres database\n",
    "try:\n",
    "    conn = psycopg2.connect(f\"host=localhost user=postgres dbname=postgres password={db_pw}\")\n",
    "except psycopg2.Error as e:\n",
    "    print('Error: No Conection to database possible.')\n",
    "    print(e)"
   ]
  },
  {
   "cell_type": "code",
   "execution_count": null,
   "metadata": {},
   "outputs": [],
   "source": [
    "# Creating a cursor object for executing the SQL queries\n",
    "try:\n",
    "    cur = conn.cursor()\n",
    "except psycopg2.Error as e:\n",
    "    print(e)"
   ]
  },
  {
   "cell_type": "code",
   "execution_count": null,
   "metadata": {},
   "outputs": [],
   "source": [
    "# this setting reduces coding a commit for every query\n",
    "conn.set_session(autocommit=True)"
   ]
  },
  {
   "cell_type": "code",
   "execution_count": null,
   "metadata": {},
   "outputs": [],
   "source": [
    "# Creating the Database for the NFL data\n",
    "try:\n",
    "    cur.execute(\"CREATE DATABASE NFL_Scores_Bets\")\n",
    "except psycopg2.Error as e:\n",
    "    print(e)"
   ]
  },
  {
   "cell_type": "code",
   "execution_count": null,
   "metadata": {},
   "outputs": [],
   "source": [
    "# Closing of the connection to the postgres database\n",
    "try:\n",
    "    conn.close()\n",
    "except psycopg2.Error as e:\n",
    "    print(e)\n",
    "\n",
    "# Connecting to the new database nfl_scores_bets    \n",
    "try:\n",
    "    conn = psycopg2.connect(f\"host=localhost user=postgres dbname=nfl_scores_bets password={db_pw}\")\n",
    "except psycopg2.Error as e:\n",
    "    print('Error: Cnnection to database failed')\n",
    "    print(e)\n",
    "    \n",
    "try:\n",
    "    cur = conn.cursor()\n",
    "except psycopg2.Error as e:\n",
    "    print('Cursor failed')\n",
    "    print(e)\n",
    "    \n",
    "conn.set_session(autocommit=True)"
   ]
  },
  {
   "cell_type": "markdown",
   "metadata": {},
   "source": [
    "# Creating the 3 tables stadiums, teams and scores_bets"
   ]
  },
  {
   "cell_type": "code",
   "execution_count": null,
   "metadata": {},
   "outputs": [],
   "source": [
    "try:\n",
    "    cur.execute(\"CREATE TABLE IF NOT EXISTS stadiums \\\n",
    "    (stadium_name varchar NOT NULL, \\\n",
    "    stadium_location varchar, \\\n",
    "    stadium_open_year int, \\\n",
    "    stadium_close_year int, \\\n",
    "    stadium_type varchar, \\\n",
    "    stadium_address varchar, \\\n",
    "    stadium_weather_station_code varchar, \\\n",
    "    stadium_weather_type varchar, \\\n",
    "    stadium_capacity int, \\\n",
    "    stadium_surface varchar, \\\n",
    "    PRIMARY KEY (stadium_name))\")\n",
    "except psycopg2.Error as e:\n",
    "    print('Error: Creating table nfl_stadiums failed')\n",
    "    print(e)"
   ]
  },
  {
   "cell_type": "code",
   "execution_count": null,
   "metadata": {},
   "outputs": [],
   "source": [
    "try:\n",
    "    cur.execute(\"CREATE TABLE IF NOT EXISTS teams \\\n",
    "    (team_name varchar PRIMARY KEY, \\\n",
    "    team_name_short varchar, \\\n",
    "    team_id varchar NOT NULL, \\\n",
    "    team_id_pfr varchar, \\\n",
    "    team_conference varchar, \\\n",
    "    team_division varchar, \\\n",
    "    team_conference_pre2002 varchar, \\\n",
    "    team_division_pre2002 varchar)\")\n",
    "except psycopg2.Error as e: \n",
    "    print('Error: Creating table teams failed')\n",
    "    print(e)"
   ]
  },
  {
   "cell_type": "code",
   "execution_count": null,
   "metadata": {},
   "outputs": [],
   "source": [
    "# schedule_week must be varchar because there are also texts (Superbwl, Wildcard ....)\n",
    "try:\n",
    "    cur.execute(\"CREATE TABLE IF NOT EXISTS scores_bets \\\n",
    "    (id SERIAL PRIMARY KEY, \\\n",
    "    schedule_date date, \\\n",
    "    schedule_season varchar, \\\n",
    "    schedule_week varchar, \\\n",
    "    schedule_playoff bool, \\\n",
    "    team_home varchar, \\\n",
    "    score_home smallint, \\\n",
    "    score_away smallint, \\\n",
    "    team_away varchar, \\\n",
    "    team_favorite_id varchar, \\\n",
    "    spread_favorite varchar, \\\n",
    "    over_under_line varchar, \\\n",
    "    stadium_name varchar, \\\n",
    "    stadium_neutral bool, \\\n",
    "    weather_temperature numeric, \\\n",
    "    weather_wind_mph numeric, \\\n",
    "    weather_humidity numeric, \\\n",
    "    weather_detail varchar, \\\n",
    "    foreign key (team_home) references teams(team_name), \\\n",
    "    foreign key (team_away) references teams(team_name))\")\n",
    "\n",
    "except psycopg2.Error as e: \n",
    "    print('Error: Creating table scores_bets failed')\n",
    "    print(e)"
   ]
  },
  {
   "cell_type": "markdown",
   "metadata": {},
   "source": [
    "# Loading of the csv files"
   ]
  },
  {
   "cell_type": "code",
   "execution_count": 3,
   "metadata": {},
   "outputs": [],
   "source": [
    "teams = pd.read_csv('data/teams.csv')"
   ]
  },
  {
   "cell_type": "code",
   "execution_count": 4,
   "metadata": {},
   "outputs": [
    {
     "data": {
      "text/html": [
       "<div>\n",
       "<style scoped>\n",
       "    .dataframe tbody tr th:only-of-type {\n",
       "        vertical-align: middle;\n",
       "    }\n",
       "\n",
       "    .dataframe tbody tr th {\n",
       "        vertical-align: top;\n",
       "    }\n",
       "\n",
       "    .dataframe thead th {\n",
       "        text-align: right;\n",
       "    }\n",
       "</style>\n",
       "<table border=\"1\" class=\"dataframe\">\n",
       "  <thead>\n",
       "    <tr style=\"text-align: right;\">\n",
       "      <th></th>\n",
       "      <th>team_name</th>\n",
       "      <th>team_name_short</th>\n",
       "      <th>team_id</th>\n",
       "      <th>team_id_pfr</th>\n",
       "      <th>team_conference</th>\n",
       "      <th>team_division</th>\n",
       "      <th>team_conference_pre2002</th>\n",
       "      <th>team_division_pre2002</th>\n",
       "    </tr>\n",
       "  </thead>\n",
       "  <tbody>\n",
       "    <tr>\n",
       "      <th>0</th>\n",
       "      <td>Arizona Cardinals</td>\n",
       "      <td>Cardinals</td>\n",
       "      <td>ARI</td>\n",
       "      <td>CRD</td>\n",
       "      <td>NFC</td>\n",
       "      <td>NFC West</td>\n",
       "      <td>NFC</td>\n",
       "      <td>NFC West</td>\n",
       "    </tr>\n",
       "    <tr>\n",
       "      <th>1</th>\n",
       "      <td>Atlanta Falcons</td>\n",
       "      <td>Falcons</td>\n",
       "      <td>ATL</td>\n",
       "      <td>ATL</td>\n",
       "      <td>NFC</td>\n",
       "      <td>NFC South</td>\n",
       "      <td>NFC</td>\n",
       "      <td>NFC West</td>\n",
       "    </tr>\n",
       "    <tr>\n",
       "      <th>2</th>\n",
       "      <td>Baltimore Colts</td>\n",
       "      <td>Colts</td>\n",
       "      <td>IND</td>\n",
       "      <td>CLT</td>\n",
       "      <td>AFC</td>\n",
       "      <td>NaN</td>\n",
       "      <td>AFC</td>\n",
       "      <td>AFC East</td>\n",
       "    </tr>\n",
       "    <tr>\n",
       "      <th>3</th>\n",
       "      <td>Baltimore Ravens</td>\n",
       "      <td>Ravens</td>\n",
       "      <td>BAL</td>\n",
       "      <td>RAV</td>\n",
       "      <td>AFC</td>\n",
       "      <td>AFC North</td>\n",
       "      <td>AFC</td>\n",
       "      <td>AFC Central</td>\n",
       "    </tr>\n",
       "    <tr>\n",
       "      <th>4</th>\n",
       "      <td>Boston Patriots</td>\n",
       "      <td>Patriots</td>\n",
       "      <td>NE</td>\n",
       "      <td>NWE</td>\n",
       "      <td>AFC</td>\n",
       "      <td>NaN</td>\n",
       "      <td>AFC</td>\n",
       "      <td>NaN</td>\n",
       "    </tr>\n",
       "  </tbody>\n",
       "</table>\n",
       "</div>"
      ],
      "text/plain": [
       "           team_name team_name_short team_id team_id_pfr team_conference  \\\n",
       "0  Arizona Cardinals       Cardinals     ARI         CRD             NFC   \n",
       "1    Atlanta Falcons         Falcons     ATL         ATL             NFC   \n",
       "2    Baltimore Colts           Colts     IND         CLT             AFC   \n",
       "3   Baltimore Ravens          Ravens     BAL         RAV             AFC   \n",
       "4    Boston Patriots        Patriots      NE         NWE             AFC   \n",
       "\n",
       "  team_division team_conference_pre2002 team_division_pre2002  \n",
       "0      NFC West                     NFC              NFC West  \n",
       "1     NFC South                     NFC              NFC West  \n",
       "2           NaN                     AFC              AFC East  \n",
       "3     AFC North                     AFC           AFC Central  \n",
       "4           NaN                     AFC                   NaN  "
      ]
     },
     "execution_count": 4,
     "metadata": {},
     "output_type": "execute_result"
    }
   ],
   "source": [
    "teams.head()"
   ]
  },
  {
   "cell_type": "code",
   "execution_count": null,
   "metadata": {},
   "outputs": [],
   "source": [
    "scores_bets = pd.read_csv('data/scores_bets.csv')"
   ]
  },
  {
   "cell_type": "code",
   "execution_count": null,
   "metadata": {},
   "outputs": [],
   "source": [
    "scores_bets.tail()"
   ]
  },
  {
   "cell_type": "code",
   "execution_count": null,
   "metadata": {},
   "outputs": [],
   "source": [
    "# changing the dateformat from dd/mm/yyyy to yyyy-mm-dd for postgres insert\n",
    "scores_bets['schedule_date'] = pd.to_datetime(scores_bets['schedule_date'])\n",
    "scores_bets.head()"
   ]
  },
  {
   "cell_type": "code",
   "execution_count": null,
   "metadata": {},
   "outputs": [],
   "source": [
    "# Replacing NaN Values in the Dataframe to None. \n",
    "# Otherwise the columns can´t get insert into Postgres \n",
    "scores_bets = scores_bets.where(pd.notnull(scores_bets), None)\n",
    "scores_bets.tail()"
   ]
  },
  {
   "cell_type": "code",
   "execution_count": null,
   "metadata": {
    "scrolled": true
   },
   "outputs": [],
   "source": [
    "stadiums = pd.read_csv('data/stadiums.csv', encoding='latin1')\n",
    "stadiums.head()"
   ]
  },
  {
   "cell_type": "code",
   "execution_count": null,
   "metadata": {},
   "outputs": [],
   "source": [
    "stadiums = stadiums.where(pd.notnull(stadiums), None)\n",
    "stadiums.head()"
   ]
  },
  {
   "cell_type": "code",
   "execution_count": null,
   "metadata": {},
   "outputs": [],
   "source": [
    "# Deleting the unnessesary rows\n",
    "stadiums = stadiums[['stadium_name', 'stadium_location', 'stadium_open', 'stadium_close', 'stadium_type', 'stadium_address', 'stadium_weather_station_code', 'stadium_weather_type', 'stadium_capacity', 'stadium_surface']]\n",
    "stadiums['stadium_capacity'] = stadiums['stadium_capacity'].str.replace(',','')\n",
    "stadiums.head()"
   ]
  },
  {
   "cell_type": "markdown",
   "metadata": {},
   "source": [
    "# Insert the data from the dataframes into the database"
   ]
  },
  {
   "cell_type": "code",
   "execution_count": null,
   "metadata": {},
   "outputs": [],
   "source": [
    "stadium_table_insert = (\"\"\"INSERT INTO stadiums (\n",
    "stadium_name,\n",
    "stadium_location,\n",
    "stadium_open_year,\n",
    "stadium_close_year,\n",
    "stadium_type,\n",
    "stadium_address, \n",
    "stadium_weather_station_code,\n",
    "stadium_weather_type,\n",
    "stadium_capacity,\n",
    "stadium_surface) \n",
    "VALUES (%s, %s, %s, %s, %s, %s, %s, %s, %s, %s)\n",
    "\"\"\")"
   ]
  },
  {
   "cell_type": "code",
   "execution_count": null,
   "metadata": {},
   "outputs": [],
   "source": [
    "teams_table_insert = (\"\"\"INSERT INTO teams (\n",
    "team_name,\n",
    "team_name_short,\n",
    "team_id,\n",
    "team_id_pfr,\n",
    "team_conference,\n",
    "team_division,\n",
    "team_conference_pre2002,\n",
    "team_division_pre2002)\n",
    "VALUES (%s, %s, %s, %s, %s, %s, %s, %s)\n",
    "\"\"\")"
   ]
  },
  {
   "cell_type": "code",
   "execution_count": null,
   "metadata": {},
   "outputs": [],
   "source": [
    "scores_bets_table_insert = (\"\"\"INSERT INTO scores_bets (\n",
    "schedule_date,\n",
    "schedule_season,\n",
    "schedule_week,\n",
    "schedule_playoff,\n",
    "team_home,\n",
    "score_home,\n",
    "score_away,\n",
    "team_away,\n",
    "team_favorite_id,\n",
    "spread_favorite,\n",
    "over_under_line,\n",
    "stadium_name,\n",
    "stadium_neutral,\n",
    "weather_temperature,\n",
    "weather_wind_mph,\n",
    "weather_humidity,\n",
    "weather_detail) \n",
    "VALUES (%s, %s, %s, %s, %s, %s, %s, %s, %s, %s, %s, %s, %s, %s, %s, %s, %s)\n",
    "\"\"\")"
   ]
  },
  {
   "cell_type": "code",
   "execution_count": null,
   "metadata": {},
   "outputs": [],
   "source": [
    "for i, row in stadiums.iterrows():\n",
    "    cur.execute(stadium_table_insert, list(row))"
   ]
  },
  {
   "cell_type": "code",
   "execution_count": null,
   "metadata": {},
   "outputs": [],
   "source": [
    "for i, row in teams.iterrows():\n",
    "    cur.execute(teams_table_insert, list(row))"
   ]
  },
  {
   "cell_type": "code",
   "execution_count": null,
   "metadata": {},
   "outputs": [],
   "source": [
    "#for i, row in scores_bets.iterrows():\n",
    "#    cur.execute(scores_bets_table_insert, list(row))"
   ]
  },
  {
   "cell_type": "code",
   "execution_count": null,
   "metadata": {},
   "outputs": [],
   "source": []
  }
 ],
 "metadata": {
  "kernelspec": {
   "display_name": "Python 3",
   "language": "python",
   "name": "python3"
  },
  "language_info": {
   "codemirror_mode": {
    "name": "ipython",
    "version": 3
   },
   "file_extension": ".py",
   "mimetype": "text/x-python",
   "name": "python",
   "nbconvert_exporter": "python",
   "pygments_lexer": "ipython3",
   "version": "3.8.5"
  }
 },
 "nbformat": 4,
 "nbformat_minor": 4
}
